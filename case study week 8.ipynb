{
 "cells": [
  {
   "cell_type": "code",
   "execution_count": 1,
   "id": "e05e9b0c",
   "metadata": {},
   "outputs": [],
   "source": [
    "import pandas as pd \n",
    "import numpy as np\n",
    "import matplotlib.pyplot as plt\n",
    "import seaborn as sns\n",
    "import scipy.stats as stats"
   ]
  },
  {
   "cell_type": "code",
   "execution_count": 6,
   "id": "f00f9ca8",
   "metadata": {},
   "outputs": [
    {
     "ename": "NameError",
     "evalue": "name 'pd' is not defined",
     "output_type": "error",
     "traceback": [
      "\u001b[1;31m---------------------------------------------------------------------------\u001b[0m",
      "\u001b[1;31mNameError\u001b[0m                                 Traceback (most recent call last)",
      "\u001b[1;32mC:\\Users\\HPPROB~1\\AppData\\Local\\Temp/ipykernel_10136/3756565939.py\u001b[0m in \u001b[0;36m<module>\u001b[1;34m\u001b[0m\n\u001b[1;32m----> 1\u001b[1;33m \u001b[0mdb\u001b[0m\u001b[1;33m=\u001b[0m\u001b[0mpd\u001b[0m\u001b[1;33m.\u001b[0m\u001b[0mread_csv\u001b[0m\u001b[1;33m(\u001b[0m\u001b[1;34mr\"C:\\Users\\HP Probook\\Downloads\\Sales_add.csv\"\u001b[0m\u001b[1;33m)\u001b[0m\u001b[1;33m\u001b[0m\u001b[1;33m\u001b[0m\u001b[0m\n\u001b[0m\u001b[0;32m      2\u001b[0m \u001b[0mdb\u001b[0m\u001b[1;33m\u001b[0m\u001b[1;33m\u001b[0m\u001b[0m\n",
      "\u001b[1;31mNameError\u001b[0m: name 'pd' is not defined"
     ]
    }
   ],
   "source": [
    "db=pd.read_csv(r\"C:\\Users\\HP Probook\\Downloads\\Sales_add.csv\")\n",
    "db"
   ]
  },
  {
   "cell_type": "markdown",
   "id": "69ed7cdd",
   "metadata": {},
   "source": [
    "# To clarify whether there is any increase in sales after stepping into digital marketing"
   ]
  },
  {
   "cell_type": "code",
   "execution_count": 3,
   "id": "8ac54313",
   "metadata": {},
   "outputs": [],
   "source": [
    "# assuming null hypothesis as no increase in sales after stepping into digital marketing\n",
    "# alternative hypothesis as increase in sales after stteping into digital markrting\n",
    "db1=db['Sales_before_digital_add(in $)']\n",
    "db2=db['Sales_After_digital_add(in $)']"
   ]
  },
  {
   "cell_type": "code",
   "execution_count": 4,
   "id": "3a35c274",
   "metadata": {},
   "outputs": [
    {
     "data": {
      "text/plain": [
       "ShapiroResult(statistic=0.9306764006614685, pvalue=0.12674309313297272)"
      ]
     },
     "execution_count": 4,
     "metadata": {},
     "output_type": "execute_result"
    }
   ],
   "source": [
    "stats.shapiro(db1)"
   ]
  },
  {
   "cell_type": "code",
   "execution_count": 5,
   "id": "b126ab5a",
   "metadata": {},
   "outputs": [
    {
     "data": {
      "text/plain": [
       "ShapiroResult(statistic=0.9702128767967224, pvalue=0.7159645557403564)"
      ]
     },
     "execution_count": 5,
     "metadata": {},
     "output_type": "execute_result"
    }
   ],
   "source": [
    "stats.shapiro(db2)"
   ]
  },
  {
   "cell_type": "code",
   "execution_count": 6,
   "id": "cb441fdc",
   "metadata": {},
   "outputs": [
    {
     "data": {
      "text/plain": [
       "LeveneResult(statistic=5.171664124853503, pvalue=0.028130575490495715)"
      ]
     },
     "execution_count": 6,
     "metadata": {},
     "output_type": "execute_result"
    }
   ],
   "source": [
    "# both p value are greater than 0.05,hence the distribution is normal\n",
    "stats.levene(db1,db2,center='mean')"
   ]
  },
  {
   "cell_type": "code",
   "execution_count": 7,
   "id": "7261b2fa",
   "metadata": {},
   "outputs": [
    {
     "data": {
      "text/plain": [
       "Ttest_indResult(statistic=-12.995084451110877, pvalue=2.614368006904645e-16)"
      ]
     },
     "execution_count": 7,
     "metadata": {},
     "output_type": "execute_result"
    }
   ],
   "source": [
    "# here the p value is less than the alpha value 0.05, hence the varience is not equal so we need to use t test \n",
    "stats.ttest_ind(db1,db2,equal_var='False')\n",
    "# here p value is less than 0.05 we reject the null hypothesis\n",
    "# confirm there is a increase in sales after stepping into digital marketing"
   ]
  },
  {
   "cell_type": "markdown",
   "id": "4d43d98f",
   "metadata": {},
   "source": [
    "# To check whether there is any dependency between the features “Region” and “Manager”"
   ]
  },
  {
   "cell_type": "code",
   "execution_count": 8,
   "id": "ca3c51d2",
   "metadata": {},
   "outputs": [
    {
     "data": {
      "text/html": [
       "<div>\n",
       "<style scoped>\n",
       "    .dataframe tbody tr th:only-of-type {\n",
       "        vertical-align: middle;\n",
       "    }\n",
       "\n",
       "    .dataframe tbody tr th {\n",
       "        vertical-align: top;\n",
       "    }\n",
       "\n",
       "    .dataframe thead th {\n",
       "        text-align: right;\n",
       "    }\n",
       "</style>\n",
       "<table border=\"1\" class=\"dataframe\">\n",
       "  <thead>\n",
       "    <tr style=\"text-align: right;\">\n",
       "      <th>Manager</th>\n",
       "      <th>Manager - A</th>\n",
       "      <th>Manager - B</th>\n",
       "      <th>Manager - C</th>\n",
       "    </tr>\n",
       "    <tr>\n",
       "      <th>Region</th>\n",
       "      <th></th>\n",
       "      <th></th>\n",
       "      <th></th>\n",
       "    </tr>\n",
       "  </thead>\n",
       "  <tbody>\n",
       "    <tr>\n",
       "      <th>Region - A</th>\n",
       "      <td>4</td>\n",
       "      <td>3</td>\n",
       "      <td>3</td>\n",
       "    </tr>\n",
       "    <tr>\n",
       "      <th>Region - B</th>\n",
       "      <td>4</td>\n",
       "      <td>1</td>\n",
       "      <td>2</td>\n",
       "    </tr>\n",
       "    <tr>\n",
       "      <th>Region - C</th>\n",
       "      <td>1</td>\n",
       "      <td>3</td>\n",
       "      <td>1</td>\n",
       "    </tr>\n",
       "  </tbody>\n",
       "</table>\n",
       "</div>"
      ],
      "text/plain": [
       "Manager     Manager - A  Manager - B  Manager - C\n",
       "Region                                           \n",
       "Region - A            4            3            3\n",
       "Region - B            4            1            2\n",
       "Region - C            1            3            1"
      ]
     },
     "execution_count": 8,
     "metadata": {},
     "output_type": "execute_result"
    }
   ],
   "source": [
    "db3=pd.crosstab(db['Region'],db['Manager'])\n",
    "db3"
   ]
  },
  {
   "cell_type": "code",
   "execution_count": 9,
   "id": "0e9d8718",
   "metadata": {},
   "outputs": [
    {
     "data": {
      "text/plain": [
       "(3.050566893424036,\n",
       " 0.5493991051158094,\n",
       " 4,\n",
       " array([[4.09090909, 3.18181818, 2.72727273],\n",
       "        [2.86363636, 2.22727273, 1.90909091],\n",
       "        [2.04545455, 1.59090909, 1.36363636]]))"
      ]
     },
     "execution_count": 9,
     "metadata": {},
     "output_type": "execute_result"
    }
   ],
   "source": [
    "# null hypothesis variable are independent\n",
    "# alternative hypothesis variable are independent\n",
    "chi=stats.chi2_contingency(db3)\n",
    "chi"
   ]
  },
  {
   "cell_type": "code",
   "execution_count": 10,
   "id": "51cc8145",
   "metadata": {},
   "outputs": [],
   "source": [
    "chi_stat_value=chi[0]\n",
    "p_val=chi[1]\n",
    "d_o_f=chi[2]\n",
    "alpha=0.05"
   ]
  },
  {
   "cell_type": "code",
   "execution_count": 11,
   "id": "a8ff896f",
   "metadata": {},
   "outputs": [
    {
     "name": "stdout",
     "output_type": "stream",
     "text": [
      "critical value is 9.487729036781154\n"
     ]
    }
   ],
   "source": [
    "chi_critical=stats.chi2.ppf(q=1-alpha,df=d_o_f)\n",
    "print('critical value is',chi_critical)"
   ]
  },
  {
   "cell_type": "code",
   "execution_count": 12,
   "id": "970a61ea",
   "metadata": {},
   "outputs": [
    {
     "name": "stdout",
     "output_type": "stream",
     "text": [
      "Accept null hypothesis and there is no dependency between region and manager\n"
     ]
    }
   ],
   "source": [
    "if(chi_stat_value>=chi_critical)&(p_val<=alpha):\n",
    "    print('Reject null hypothesis and there is dependency between region and manager')\n",
    "else:\n",
    "    print('Accept null hypothesis and there is no dependency between region and manager')"
   ]
  },
  {
   "cell_type": "code",
   "execution_count": null,
   "id": "943186af",
   "metadata": {},
   "outputs": [],
   "source": []
  }
 ],
 "metadata": {
  "kernelspec": {
   "display_name": "Python 3 (ipykernel)",
   "language": "python",
   "name": "python3"
  },
  "language_info": {
   "codemirror_mode": {
    "name": "ipython",
    "version": 3
   },
   "file_extension": ".py",
   "mimetype": "text/x-python",
   "name": "python",
   "nbconvert_exporter": "python",
   "pygments_lexer": "ipython3",
   "version": "3.9.7"
  }
 },
 "nbformat": 4,
 "nbformat_minor": 5
}
