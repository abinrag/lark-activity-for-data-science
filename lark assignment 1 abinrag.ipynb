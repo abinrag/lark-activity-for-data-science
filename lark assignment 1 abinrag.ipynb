{
 "cells": [
  {
   "cell_type": "markdown",
   "metadata": {},
   "source": [
    "## 1. Complete the following code to find the area of an equilateral triangle. Output should be as displayed"
   ]
  },
  {
   "cell_type": "code",
   "execution_count": 2,
   "metadata": {},
   "outputs": [
    {
     "name": "stdout",
     "output_type": "stream",
     "text": [
      "Enter the side of the equilateral triangle: 5\n",
      "Area= 10.825\n"
     ]
    }
   ],
   "source": [
    "import math\n",
    "side = float(input(\"Enter the side of the equilateral triangle: \"))\n",
    "area = ((math.sqrt(3))/4)*pow(side,2)\n",
    "print(\"Area=\",round(area,3))\n"
   ]
  },
  {
   "cell_type": "code",
   "execution_count": null,
   "metadata": {},
   "outputs": [],
   "source": []
  },
  {
   "cell_type": "markdown",
   "metadata": {},
   "source": [
    "## 2. Write a program to count the number of each characters in a string"
   ]
  },
  {
   "cell_type": "code",
   "execution_count": 3,
   "metadata": {},
   "outputs": [
    {
     "name": "stdout",
     "output_type": "stream",
     "text": [
      "Enter the string: abinrag\n",
      "{'a': 2, 'b': 1, 'i': 1, 'n': 1, 'r': 1, 'g': 1}\n"
     ]
    }
   ],
   "source": [
    "str = input (\"Enter the string: \")\n",
    "d = dict()\n",
    "for i in str:\n",
    "    if i in d:\n",
    "        d[i] = d[i] + 1\n",
    "    else:\n",
    "        d[i] = 1\n",
    "print(d)"
   ]
  },
  {
   "cell_type": "markdown",
   "metadata": {},
   "source": [
    "## 3. Write a program to find the area and perimeter of a rectangle using functions"
   ]
  },
  {
   "cell_type": "code",
   "execution_count": 4,
   "metadata": {},
   "outputs": [
    {
     "name": "stdout",
     "output_type": "stream",
     "text": [
      "Enter the length of the rectangle : 9\n",
      "Enter the breadth of the rectangle : 5\n",
      "Area of the rectangle =  45.0\n",
      "Perimeter of the rectangle =  28.0\n"
     ]
    }
   ],
   "source": [
    "def area(a, b):\n",
    "    return (a * b)\n",
    " \n",
    "def perimeter(a, b):\n",
    "    return (2 * (a + b))\n",
    "\n",
    "l = float(input(\"Enter the length of the rectangle : \")) \n",
    "b = float(input(\"Enter the breadth of the rectangle : \")) \n",
    "print (\"Area of the rectangle = \", area(l, b))\n",
    "print (\"Perimeter of the rectangle = \", perimeter(l, b))"
   ]
  },
  {
   "cell_type": "markdown",
   "metadata": {},
   "source": [
    "## 4. Write a program to print the fibonacci series till a specified number"
   ]
  },
  {
   "cell_type": "code",
   "execution_count": 5,
   "metadata": {},
   "outputs": [
    {
     "name": "stdout",
     "output_type": "stream",
     "text": [
      "Enter the number 11\n",
      "Fibonacci series of the number :\n",
      "0\n",
      "1\n",
      "1\n",
      "2\n",
      "3\n",
      "5\n",
      "8\n",
      "13\n",
      "21\n",
      "34\n",
      "55\n"
     ]
    }
   ],
   "source": [
    "n = int(input (\"Enter the number \"))  \n",
    "n_1 = 0  \n",
    "n_2 = 1  \n",
    "count = 0 \n",
    "if n <= 0:  \n",
    "    print (\"Please enter a positive integer\") \n",
    "elif n == 1:  \n",
    "    print (\"Fibonacci series of the numbers up to\", n, \": \")  \n",
    "    print(n_1) \n",
    "else:  \n",
    "    print (\"Fibonacci series of the number :\")  \n",
    "    while count < n:  \n",
    "        print(n_1)  \n",
    "        m = n_1 + n_2   \n",
    "        n_1 = n_2  \n",
    "        n_2 = m  \n",
    "        count += 1 "
   ]
  },
  {
   "cell_type": "markdown",
   "metadata": {},
   "source": [
    "## 5. Complete the following code to find the minimum of 3 number using conditional statements. Output should be as displayed"
   ]
  },
  {
   "cell_type": "code",
   "execution_count": 7,
   "metadata": {},
   "outputs": [
    {
     "name": "stdout",
     "output_type": "stream",
     "text": [
      "Enter three numbers followed by  : -19 -100 -9\n",
      "First number : -19\n",
      "Second number : -100\n",
      "Third number : -9\n",
      "-100  is smallest\n"
     ]
    }
   ],
   "source": [
    "a,b,c = input(\"Enter three numbers followed by  : \").split()\n",
    "\n",
    "print(\"First number :\",a)\n",
    "print(\"Second number :\",b)\n",
    "print(\"Third number :\",c)\n",
    "if (a==b==c):\n",
    "    print(\"Entered numbers are equal!!!\")\n",
    "elif (a<b and a<c):\n",
    "    print(a,\" is smallest\")\n",
    "elif (b <  a) and (b < c):\n",
    "    print(b,\" is smallest\")\n",
    "else:\n",
    "    print(c,\" is smallest\")"
   ]
  },
  {
   "cell_type": "markdown",
   "metadata": {},
   "source": [
    "## 6. Write a program to print star pyramind. The number of rows should be taken as input from the user"
   ]
  },
  {
   "cell_type": "code",
   "execution_count": 8,
   "metadata": {},
   "outputs": [
    {
     "name": "stdout",
     "output_type": "stream",
     "text": [
      "Number of rows: 11\n",
      "                    * \n",
      "                  * * * \n",
      "                * * * * * \n",
      "              * * * * * * * \n",
      "            * * * * * * * * * \n",
      "          * * * * * * * * * * * \n",
      "        * * * * * * * * * * * * * \n",
      "      * * * * * * * * * * * * * * * \n",
      "    * * * * * * * * * * * * * * * * * \n",
      "  * * * * * * * * * * * * * * * * * * * \n",
      "* * * * * * * * * * * * * * * * * * * * * \n"
     ]
    }
   ],
   "source": [
    "rows = int(input(\"Number of rows: \"))\n",
    "\n",
    "k = 0\n",
    "\n",
    "for i in range(1, rows+1):\n",
    "    for space in range(1, (rows-i)+1):\n",
    "        print(end=\"  \")\n",
    "   \n",
    "    while k!=(2*i-1):\n",
    "        print(\"* \", end=\"\")\n",
    "        k += 1\n",
    "   \n",
    "    k = 0\n",
    "    print()"
   ]
  },
  {
   "cell_type": "markdown",
   "metadata": {},
   "source": [
    "## 7. Complete the following code to convert hour into seconds. Output should be as displayed"
   ]
  },
  {
   "cell_type": "code",
   "execution_count": 9,
   "metadata": {},
   "outputs": [
    {
     "name": "stdout",
     "output_type": "stream",
     "text": [
      "Enter time in Hours: 24\n",
      "24  Hour is equal to 86400  Seconds\n"
     ]
    }
   ],
   "source": [
    "def to_seconds(t):\n",
    "    t= time_in_hours * 60 * 60\n",
    "    return t\n",
    "time_in_hours = int(input(\"Enter time in Hours: \"))\n",
    "print(time_in_hours ,\" Hour is equal to\" ,to_seconds(time_in_hours) ,\" Seconds\")"
   ]
  },
  {
   "cell_type": "markdown",
   "metadata": {},
   "source": [
    "## 8. Write a program to print multiplication table as below"
   ]
  },
  {
   "cell_type": "code",
   "execution_count": 11,
   "metadata": {},
   "outputs": [
    {
     "name": "stdout",
     "output_type": "stream",
     "text": [
      "Enter a number to find the multipication table : 69\n",
      "1 x 69 = 69\n",
      "2 x 69 = 138\n",
      "3 x 69 = 207\n",
      "4 x 69 = 276\n",
      "5 x 69 = 345\n",
      "6 x 69 = 414\n",
      "7 x 69 = 483\n",
      "8 x 69 = 552\n",
      "9 x 69 = 621\n",
      "10 x 69 = 690\n"
     ]
    }
   ],
   "source": [
    "a=int(input(\"Enter a number to find the multipication table : \"))\n",
    "for i in range(1,11):\n",
    "    print(i,\"x\",a,\"=\",i*a)"
   ]
  },
  {
   "cell_type": "markdown",
   "metadata": {},
   "source": [
    "## 9. Write a program to take your 5 favorite food as list and print each as 'I like Biriyani'"
   ]
  },
  {
   "cell_type": "code",
   "execution_count": 15,
   "metadata": {},
   "outputs": [
    {
     "name": "stdout",
     "output_type": "stream",
     "text": [
      "Enter your favourite food:biriyani\n",
      "Enter your favourite food:dosha\n",
      "Enter your favourite food:puttu\n",
      "Enter your favourite food:payasam\n",
      "Enter your favourite food:ice cream\n",
      "I like biriyani\n",
      "I like dosha\n",
      "I like puttu\n",
      "I like payasam\n",
      "I like ice cream\n"
     ]
    }
   ],
   "source": [
    "fav_food_list=[]\n",
    "for i in range(0,5):\n",
    "    item =input(\"Enter your favourite food:\")\n",
    "    fav_food_list.append(item)\n",
    "for j in fav_food_list:\n",
    "    print(\"I like\",j)"
   ]
  },
  {
   "cell_type": "code",
   "execution_count": null,
   "metadata": {},
   "outputs": [],
   "source": []
  }
 ],
 "metadata": {
  "kernelspec": {
   "display_name": "Python 3 (ipykernel)",
   "language": "python",
   "name": "python3"
  },
  "language_info": {
   "codemirror_mode": {
    "name": "ipython",
    "version": 3
   },
   "file_extension": ".py",
   "mimetype": "text/x-python",
   "name": "python",
   "nbconvert_exporter": "python",
   "pygments_lexer": "ipython3",
   "version": "3.9.7"
  }
 },
 "nbformat": 4,
 "nbformat_minor": 4
}
