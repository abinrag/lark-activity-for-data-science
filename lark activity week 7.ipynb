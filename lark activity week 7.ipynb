{
 "cells": [
  {
   "cell_type": "code",
   "execution_count": 1,
   "id": "f9bc68c1",
   "metadata": {},
   "outputs": [],
   "source": [
    "import os"
   ]
  },
  {
   "cell_type": "code",
   "execution_count": 2,
   "id": "392692e4",
   "metadata": {},
   "outputs": [
    {
     "data": {
      "text/plain": [
       "'C:\\\\Users\\\\HP Probook'"
      ]
     },
     "execution_count": 2,
     "metadata": {},
     "output_type": "execute_result"
    }
   ],
   "source": [
    "os.getcwd()"
   ]
  },
  {
   "cell_type": "code",
   "execution_count": 3,
   "id": "d194ae63",
   "metadata": {},
   "outputs": [],
   "source": [
    "import numpy as np\n",
    "import pandas as pd\n",
    "import matplotlib.pyplot as plt\n",
    "import seaborn as sns\n",
    "import scipy.stats as stats"
   ]
  },
  {
   "cell_type": "markdown",
   "id": "b1c7d162",
   "metadata": {},
   "source": [
    "# read data set to python"
   ]
  },
  {
   "cell_type": "code",
   "execution_count": 5,
   "id": "cfa72702",
   "metadata": {},
   "outputs": [],
   "source": [
    "hypo=pd.read_csv(r\"dataset w7 (1).csv\")\n"
   ]
  },
  {
   "cell_type": "code",
   "execution_count": 7,
   "id": "03fa54f9",
   "metadata": {},
   "outputs": [
    {
     "name": "stdout",
     "output_type": "stream",
     "text": [
      "<class 'pandas.core.frame.DataFrame'>\n",
      "RangeIndex: 28 entries, 0 to 27\n",
      "Data columns (total 3 columns):\n",
      " #   Column            Non-Null Count  Dtype \n",
      "---  ------            --------------  ----- \n",
      " 0   Gender            28 non-null     object\n",
      " 1   Test preparation  28 non-null     object\n",
      " 2   Total Marks       28 non-null     int64 \n",
      "dtypes: int64(1), object(2)\n",
      "memory usage: 800.0+ bytes\n"
     ]
    }
   ],
   "source": [
    "hypo.info()"
   ]
  },
  {
   "cell_type": "markdown",
   "id": "e0c00ac3",
   "metadata": {},
   "source": [
    "# gender wise descriptive analysis on test score "
   ]
  },
  {
   "cell_type": "code",
   "execution_count": 9,
   "id": "06b87d62",
   "metadata": {},
   "outputs": [
    {
     "data": {
      "text/html": [
       "<div>\n",
       "<style scoped>\n",
       "    .dataframe tbody tr th:only-of-type {\n",
       "        vertical-align: middle;\n",
       "    }\n",
       "\n",
       "    .dataframe tbody tr th {\n",
       "        vertical-align: top;\n",
       "    }\n",
       "\n",
       "    .dataframe thead th {\n",
       "        text-align: right;\n",
       "    }\n",
       "</style>\n",
       "<table border=\"1\" class=\"dataframe\">\n",
       "  <thead>\n",
       "    <tr style=\"text-align: right;\">\n",
       "      <th></th>\n",
       "      <th>count</th>\n",
       "      <th>mean</th>\n",
       "      <th>std</th>\n",
       "      <th>min</th>\n",
       "      <th>25%</th>\n",
       "      <th>50%</th>\n",
       "      <th>75%</th>\n",
       "      <th>max</th>\n",
       "    </tr>\n",
       "    <tr>\n",
       "      <th>Gender</th>\n",
       "      <th></th>\n",
       "      <th></th>\n",
       "      <th></th>\n",
       "      <th></th>\n",
       "      <th></th>\n",
       "      <th></th>\n",
       "      <th></th>\n",
       "      <th></th>\n",
       "    </tr>\n",
       "  </thead>\n",
       "  <tbody>\n",
       "    <tr>\n",
       "      <th>female</th>\n",
       "      <td>16.0</td>\n",
       "      <td>33.750000</td>\n",
       "      <td>12.865976</td>\n",
       "      <td>12.0</td>\n",
       "      <td>25.50</td>\n",
       "      <td>39.0</td>\n",
       "      <td>43.50</td>\n",
       "      <td>50.0</td>\n",
       "    </tr>\n",
       "    <tr>\n",
       "      <th>male</th>\n",
       "      <td>12.0</td>\n",
       "      <td>30.416667</td>\n",
       "      <td>12.168950</td>\n",
       "      <td>14.0</td>\n",
       "      <td>21.75</td>\n",
       "      <td>29.0</td>\n",
       "      <td>43.25</td>\n",
       "      <td>47.0</td>\n",
       "    </tr>\n",
       "  </tbody>\n",
       "</table>\n",
       "</div>"
      ],
      "text/plain": [
       "        count       mean        std   min    25%   50%    75%   max\n",
       "Gender                                                             \n",
       "female   16.0  33.750000  12.865976  12.0  25.50  39.0  43.50  50.0\n",
       "male     12.0  30.416667  12.168950  14.0  21.75  29.0  43.25  47.0"
      ]
     },
     "execution_count": 9,
     "metadata": {},
     "output_type": "execute_result"
    }
   ],
   "source": [
    "hypo.groupby(\"Gender\")[\"Total Marks\"].describe()"
   ]
  },
  {
   "cell_type": "code",
   "execution_count": 10,
   "id": "8887fa76",
   "metadata": {},
   "outputs": [
    {
     "data": {
      "text/html": [
       "<div>\n",
       "<style scoped>\n",
       "    .dataframe tbody tr th:only-of-type {\n",
       "        vertical-align: middle;\n",
       "    }\n",
       "\n",
       "    .dataframe tbody tr th {\n",
       "        vertical-align: top;\n",
       "    }\n",
       "\n",
       "    .dataframe thead tr th {\n",
       "        text-align: left;\n",
       "    }\n",
       "\n",
       "    .dataframe thead tr:last-of-type th {\n",
       "        text-align: right;\n",
       "    }\n",
       "</style>\n",
       "<table border=\"1\" class=\"dataframe\">\n",
       "  <thead>\n",
       "    <tr>\n",
       "      <th></th>\n",
       "      <th colspan=\"5\" halign=\"left\">Total Marks</th>\n",
       "    </tr>\n",
       "    <tr>\n",
       "      <th></th>\n",
       "      <th>min</th>\n",
       "      <th>max</th>\n",
       "      <th>mean</th>\n",
       "      <th>median</th>\n",
       "      <th>std</th>\n",
       "    </tr>\n",
       "    <tr>\n",
       "      <th>Gender</th>\n",
       "      <th></th>\n",
       "      <th></th>\n",
       "      <th></th>\n",
       "      <th></th>\n",
       "      <th></th>\n",
       "    </tr>\n",
       "  </thead>\n",
       "  <tbody>\n",
       "    <tr>\n",
       "      <th>female</th>\n",
       "      <td>12</td>\n",
       "      <td>50</td>\n",
       "      <td>33.750000</td>\n",
       "      <td>39.0</td>\n",
       "      <td>12.865976</td>\n",
       "    </tr>\n",
       "    <tr>\n",
       "      <th>male</th>\n",
       "      <td>14</td>\n",
       "      <td>47</td>\n",
       "      <td>30.416667</td>\n",
       "      <td>29.0</td>\n",
       "      <td>12.168950</td>\n",
       "    </tr>\n",
       "  </tbody>\n",
       "</table>\n",
       "</div>"
      ],
      "text/plain": [
       "       Total Marks                                 \n",
       "               min max       mean median        std\n",
       "Gender                                             \n",
       "female          12  50  33.750000   39.0  12.865976\n",
       "male            14  47  30.416667   29.0  12.168950"
      ]
     },
     "execution_count": 10,
     "metadata": {},
     "output_type": "execute_result"
    }
   ],
   "source": [
    "hypo.groupby(\"Gender\").agg({\"Total Marks\":[\"min\",\"max\",\"mean\",\"median\",\"std\"]})"
   ]
  },
  {
   "cell_type": "code",
   "execution_count": 11,
   "id": "1d38948e",
   "metadata": {},
   "outputs": [
    {
     "data": {
      "text/html": [
       "<div>\n",
       "<style scoped>\n",
       "    .dataframe tbody tr th:only-of-type {\n",
       "        vertical-align: middle;\n",
       "    }\n",
       "\n",
       "    .dataframe tbody tr th {\n",
       "        vertical-align: top;\n",
       "    }\n",
       "\n",
       "    .dataframe thead tr th {\n",
       "        text-align: left;\n",
       "    }\n",
       "\n",
       "    .dataframe thead tr:last-of-type th {\n",
       "        text-align: right;\n",
       "    }\n",
       "</style>\n",
       "<table border=\"1\" class=\"dataframe\">\n",
       "  <thead>\n",
       "    <tr>\n",
       "      <th></th>\n",
       "      <th colspan=\"5\" halign=\"left\">Total Marks</th>\n",
       "    </tr>\n",
       "    <tr>\n",
       "      <th></th>\n",
       "      <th>min</th>\n",
       "      <th>max</th>\n",
       "      <th>mean</th>\n",
       "      <th>median</th>\n",
       "      <th>std</th>\n",
       "    </tr>\n",
       "    <tr>\n",
       "      <th>Test preparation</th>\n",
       "      <th></th>\n",
       "      <th></th>\n",
       "      <th></th>\n",
       "      <th></th>\n",
       "      <th></th>\n",
       "    </tr>\n",
       "  </thead>\n",
       "  <tbody>\n",
       "    <tr>\n",
       "      <th>completed</th>\n",
       "      <td>40</td>\n",
       "      <td>50</td>\n",
       "      <td>44.571429</td>\n",
       "      <td>44.0</td>\n",
       "      <td>3.359422</td>\n",
       "    </tr>\n",
       "    <tr>\n",
       "      <th>none</th>\n",
       "      <td>12</td>\n",
       "      <td>48</td>\n",
       "      <td>28.238095</td>\n",
       "      <td>27.0</td>\n",
       "      <td>11.661495</td>\n",
       "    </tr>\n",
       "  </tbody>\n",
       "</table>\n",
       "</div>"
      ],
      "text/plain": [
       "                 Total Marks                                 \n",
       "                         min max       mean median        std\n",
       "Test preparation                                             \n",
       "completed                 40  50  44.571429   44.0   3.359422\n",
       "none                      12  48  28.238095   27.0  11.661495"
      ]
     },
     "execution_count": 11,
     "metadata": {},
     "output_type": "execute_result"
    }
   ],
   "source": [
    "hypo.groupby(\"Test preparation\").agg({\"Total Marks\":[\"min\",\"max\",\"mean\",\"median\",\"std\"]})"
   ]
  },
  {
   "cell_type": "markdown",
   "id": "bb278dc8",
   "metadata": {},
   "source": [
    "# here we are checking whether the test scores of male and female are equal\n"
   ]
  },
  {
   "cell_type": "markdown",
   "id": "cbe9ae83",
   "metadata": {},
   "source": [
    "# therefore we consider the null hypothesis as Test scores of males and Females are not same \n"
   ]
  },
  {
   "cell_type": "code",
   "execution_count": 13,
   "id": "6106e4e9",
   "metadata": {},
   "outputs": [],
   "source": [
    "#Alternate hypothesis is Test Scores of M & F are same "
   ]
  },
  {
   "cell_type": "code",
   "execution_count": 14,
   "id": "84ce03c5",
   "metadata": {},
   "outputs": [],
   "source": [
    "data_m_score = hypo[hypo['Gender']=='male']\n",
    "data_f_score = hypo[hypo['Gender']=='female']"
   ]
  },
  {
   "cell_type": "code",
   "execution_count": 15,
   "id": "dbf02895",
   "metadata": {},
   "outputs": [],
   "source": [
    "#Check assumption in T test - normal distibution and equal variance "
   ]
  },
  {
   "cell_type": "code",
   "execution_count": 16,
   "id": "8f92be2d",
   "metadata": {},
   "outputs": [],
   "source": [
    "#Checking whether the distribution is normal "
   ]
  },
  {
   "cell_type": "code",
   "execution_count": 17,
   "id": "9b9d20b6",
   "metadata": {},
   "outputs": [
    {
     "data": {
      "text/plain": [
       "ShapiroResult(statistic=0.9093747138977051, pvalue=0.20944461226463318)"
      ]
     },
     "execution_count": 17,
     "metadata": {},
     "output_type": "execute_result"
    }
   ],
   "source": [
    "stats.shapiro(data_m_score['Total Marks'])"
   ]
  },
  {
   "cell_type": "code",
   "execution_count": 18,
   "id": "179e4bf7",
   "metadata": {},
   "outputs": [],
   "source": [
    "#here, p values > 0.05 alpha value , therefore it is a normal distribution"
   ]
  },
  {
   "cell_type": "code",
   "execution_count": 19,
   "id": "2b6dc97e",
   "metadata": {},
   "outputs": [],
   "source": [
    "#Checking for equal variance"
   ]
  },
  {
   "cell_type": "code",
   "execution_count": 20,
   "id": "a3e6e007",
   "metadata": {},
   "outputs": [
    {
     "data": {
      "text/plain": [
       "LeveneResult(statistic=0.20673734725307086, pvalue=0.653110396551517)"
      ]
     },
     "execution_count": 20,
     "metadata": {},
     "output_type": "execute_result"
    }
   ],
   "source": [
    "stats.levene(data_m_score['Total Marks'], data_f_score['Total Marks'],center=\"mean\")"
   ]
  },
  {
   "cell_type": "code",
   "execution_count": 21,
   "id": "5e791c96",
   "metadata": {},
   "outputs": [],
   "source": [
    "#from both above cases , p values> 0.05 alpha value , hence the equal variance assumption is valid "
   ]
  },
  {
   "cell_type": "code",
   "execution_count": 22,
   "id": "d0441125",
   "metadata": {},
   "outputs": [
    {
     "data": {
      "text/plain": [
       "Ttest_indResult(statistic=-0.6940885268848668, pvalue=0.4937822317960763)"
      ]
     },
     "execution_count": 22,
     "metadata": {},
     "output_type": "execute_result"
    }
   ],
   "source": [
    "stats.ttest_ind(data_m_score['Total Marks'], data_f_score['Total Marks'],equal_var=True)"
   ]
  },
  {
   "cell_type": "code",
   "execution_count": 23,
   "id": "c463c6e2",
   "metadata": {},
   "outputs": [],
   "source": [
    "#Since the p value is 0.49 and greater than 0.05 aplha value , we cannot reject the null hypothesis \n",
    "# Hence the scores scored by female and males are different and not same "
   ]
  },
  {
   "cell_type": "code",
   "execution_count": 27,
   "id": "899787a9",
   "metadata": {},
   "outputs": [
    {
     "data": {
      "text/plain": [
       "Text(0.5, 1.0, 'Boxplot of Gender vs Total Marks')"
      ]
     },
     "execution_count": 27,
     "metadata": {},
     "output_type": "execute_result"
    },
    {
     "data": {
      "image/png": "[encoded data removed]",
      "text/plain": [
       "<Figure size 432x288 with 1 Axes>"
      ]
     },
     "metadata": {
      "needs_background": "light"
     },
     "output_type": "display_data"
    }
   ],
   "source": [
    "sns.boxplot(x=\"Gender\",y=\"Total Marks\",data = hypo)\n",
    "plt.title(\"Boxplot of Gender vs Total Marks\",fontsize=15,fontweight=\"bold\")"
   ]
  },
  {
   "cell_type": "code",
   "execution_count": 28,
   "id": "ae88d22d",
   "metadata": {},
   "outputs": [],
   "source": [
    "#by refering the graph we can see that the score of mae anf females are different which supports the hypothesis findings"
   ]
  },
  {
   "cell_type": "code",
   "execution_count": 29,
   "id": "8da41696",
   "metadata": {},
   "outputs": [],
   "source": [
    "#We need to check whether the test preparation helps student\n",
    "#So we consider the null hypothesis as test preparation doesnt help students\n",
    "#Alternate hypothesis is test preparation helps student"
   ]
  },
  {
   "cell_type": "code",
   "execution_count": 30,
   "id": "8cd95fd9",
   "metadata": {},
   "outputs": [],
   "source": [
    "data_n_prep = hypo[hypo['Test preparation']=='none']\n",
    "data_c_prep = hypo[hypo['Test preparation']=='completed']"
   ]
  },
  {
   "cell_type": "code",
   "execution_count": 31,
   "id": "2385bb67",
   "metadata": {},
   "outputs": [],
   "source": [
    "#Check assumption in T test - normal distibution and equal variance "
   ]
  },
  {
   "cell_type": "code",
   "execution_count": 32,
   "id": "4769dd72",
   "metadata": {},
   "outputs": [],
   "source": [
    "#Checking whether the distribution is normal "
   ]
  },
  {
   "cell_type": "code",
   "execution_count": 33,
   "id": "e4fb67ba",
   "metadata": {},
   "outputs": [
    {
     "data": {
      "text/plain": [
       "ShapiroResult(statistic=0.935218095779419, pvalue=0.17507188022136688)"
      ]
     },
     "execution_count": 33,
     "metadata": {},
     "output_type": "execute_result"
    }
   ],
   "source": [
    "stats.shapiro(data_n_prep[\"Total Marks\"])"
   ]
  },
  {
   "cell_type": "code",
   "execution_count": 34,
   "id": "9d77aa54",
   "metadata": {},
   "outputs": [
    {
     "data": {
      "text/plain": [
       "ShapiroResult(statistic=0.9187047481536865, pvalue=0.4593968093395233)"
      ]
     },
     "execution_count": 34,
     "metadata": {},
     "output_type": "execute_result"
    }
   ],
   "source": [
    "stats.shapiro(data_c_prep[\"Total Marks\"])"
   ]
  },
  {
   "cell_type": "code",
   "execution_count": 35,
   "id": "c4cfa247",
   "metadata": {},
   "outputs": [],
   "source": [
    "# In both cases , p value is more than 0.05 , hence distribution is normal "
   ]
  },
  {
   "cell_type": "code",
   "execution_count": 36,
   "id": "cae18c33",
   "metadata": {},
   "outputs": [
    {
     "data": {
      "text/plain": [
       "LeveneResult(statistic=8.022056069444217, pvalue=0.008806800984690211)"
      ]
     },
     "execution_count": 36,
     "metadata": {},
     "output_type": "execute_result"
    }
   ],
   "source": [
    "stats.levene(data_n_prep[\"Total Marks\"],data_c_prep[\"Total Marks\"],center=\"mean\")"
   ]
  },
  {
   "cell_type": "code",
   "execution_count": 37,
   "id": "b9e54781",
   "metadata": {},
   "outputs": [],
   "source": [
    "#Here the p value is less than alpha value of 0.05 , hence the variance is not equal \n",
    "#So we need to use welch t test for unequal variance"
   ]
  },
  {
   "cell_type": "code",
   "execution_count": 38,
   "id": "4c53abe9",
   "metadata": {},
   "outputs": [
    {
     "data": {
      "text/plain": [
       "Ttest_indResult(statistic=-5.743210589066012, pvalue=4.884790752092096e-06)"
      ]
     },
     "execution_count": 38,
     "metadata": {},
     "output_type": "execute_result"
    }
   ],
   "source": [
    "stats.ttest_ind(data_n_prep['Total Marks'], data_c_prep['Total Marks'],equal_var=False)"
   ]
  },
  {
   "cell_type": "code",
   "execution_count": 39,
   "id": "a9ae06a0",
   "metadata": {},
   "outputs": [],
   "source": [
    "#Here the p value is less than 0.05, hence we can reject the null hypothesis and confirm test prep helps the students"
   ]
  },
  {
   "cell_type": "code",
   "execution_count": 40,
   "id": "ba8d7e5f",
   "metadata": {},
   "outputs": [
    {
     "data": {
      "text/plain": [
       "Text(0.5, 1.0, 'Boxplot of Test Preparation vs Total Marks')"
      ]
     },
     "execution_count": 40,
     "metadata": {},
     "output_type": "execute_result"
    },
    {
     "data": {
      "image/png": "[encoded data removed]",
      "text/plain": [
       "<Figure size 432x288 with 1 Axes>"
      ]
     },
     "metadata": {
      "needs_background": "light"
     },
     "output_type": "display_data"
    }
   ],
   "source": [
    "sns.boxplot(x=\"Test preparation\",y=\"Total Marks\",data = hypo)\n",
    "plt.title(\"Boxplot of Test Preparation vs Total Marks\",fontsize=15,fontweight=\"bold\")"
   ]
  },
  {
   "cell_type": "code",
   "execution_count": 41,
   "id": "91b4618f",
   "metadata": {},
   "outputs": [],
   "source": [
    "#From the boxplot we can see that students with test preparation have scored much higher marks than those not completed \n",
    "#This graph supports the alternate hypothesis claim"
   ]
  },
  {
   "cell_type": "code",
   "execution_count": null,
   "id": "500a9688",
   "metadata": {},
   "outputs": [],
   "source": []
  }
 ],
 "metadata": {
  "kernelspec": {
   "display_name": "Python 3 (ipykernel)",
   "language": "python",
   "name": "python3"
  },
  "language_info": {
   "codemirror_mode": {
    "name": "ipython",
    "version": 3
   },
   "file_extension": ".py",
   "mimetype": "text/x-python",
   "name": "python",
   "nbconvert_exporter": "python",
   "pygments_lexer": "ipython3",
   "version": "3.9.7"
  }
 },
 "nbformat": 4,
 "nbformat_minor": 5
}
